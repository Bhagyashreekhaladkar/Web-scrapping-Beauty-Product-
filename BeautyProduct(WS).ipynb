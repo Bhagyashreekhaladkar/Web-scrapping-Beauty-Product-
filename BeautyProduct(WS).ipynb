{
 "cells": [
  {
   "cell_type": "code",
   "execution_count": 1,
   "id": "1ae0f9b9",
   "metadata": {},
   "outputs": [],
   "source": [
    "\n",
    "\n",
    "from bs4 import BeautifulSoup as bs\n",
    "import requests"
   ]
  },
  {
   "cell_type": "code",
   "execution_count": 7,
   "id": "431ac348",
   "metadata": {},
   "outputs": [],
   "source": [
    "link=\"https://swissbeauty.in/products/swiss-beauty-full-coverage-foundation-studio-finish-01\""
   ]
  },
  {
   "cell_type": "code",
   "execution_count": 8,
   "id": "63d4da4b",
   "metadata": {},
   "outputs": [],
   "source": [
    "page=requests.get(link)"
   ]
  },
  {
   "cell_type": "code",
   "execution_count": 9,
   "id": "79119246",
   "metadata": {},
   "outputs": [],
   "source": [
    "soup=bs(page.content,\"html.parser\")"
   ]
  },
  {
   "cell_type": "markdown",
   "id": "e520e07d",
   "metadata": {},
   "source": [
    "# Name of product"
   ]
  },
  {
   "cell_type": "code",
   "execution_count": 10,
   "id": "b62a2472",
   "metadata": {},
   "outputs": [
    {
     "name": "stdout",
     "output_type": "stream",
     "text": [
      "Full Coverage Foundation Studio Finish\n",
      "\n"
     ]
    }
   ],
   "source": [
    "title=soup.title\n",
    "print(title.string)"
   ]
  },
  {
   "cell_type": "markdown",
   "id": "27cb3a13",
   "metadata": {},
   "source": [
    "# short description of  the product"
   ]
  },
  {
   "cell_type": "code",
   "execution_count": 13,
   "id": "e989acb1",
   "metadata": {},
   "outputs": [
    {
     "name": "stdout",
     "output_type": "stream",
     "text": [
      "[<span class=\"product--short--description\">Extremely high coverage &amp; long lasting foundation</span>, <span class=\"product--short--description\">Tools for perfection </span>, <span class=\"product--short--description\">Intense Color Pay off</span>, <span class=\"product--short--description\">Pearl White Matte Finish</span>]\n"
     ]
    }
   ],
   "source": [
    "short=soup.find_all(\"span\",class_=\"product--short--description\")\n",
    "print(short)"
   ]
  },
  {
   "cell_type": "code",
   "execution_count": 14,
   "id": "a2d1f675",
   "metadata": {},
   "outputs": [
    {
     "data": {
      "text/plain": [
       "['Extremely high coverage & long lasting foundation',\n",
       " 'Tools for perfection ',\n",
       " 'Intense Color Pay off',\n",
       " 'Pearl White Matte Finish']"
      ]
     },
     "execution_count": 14,
     "metadata": {},
     "output_type": "execute_result"
    }
   ],
   "source": [
    "product_des=[]\n",
    "for i in range(0,len(short)):\n",
    "    product_des.append(short[i].get_text())\n",
    "product_des"
   ]
  },
  {
   "cell_type": "markdown",
   "id": "d56a552a",
   "metadata": {},
   "source": [
    "# Product price "
   ]
  },
  {
   "cell_type": "code",
   "execution_count": null,
   "id": "4acead72",
   "metadata": {},
   "outputs": [],
   "source": [
    "product__price on-sale"
   ]
  },
  {
   "cell_type": "code",
   "execution_count": 15,
   "id": "b7f0335a",
   "metadata": {},
   "outputs": [
    {
     "name": "stdout",
     "output_type": "stream",
     "text": [
      "[<span class=\"product__price on-sale\" data-product-price=\"\">₹ 807\n",
      "</span>]\n"
     ]
    }
   ],
   "source": [
    "price=soup.find_all(\"span\",class_=\"product__price on-sale\")\n",
    "print(price)"
   ]
  },
  {
   "cell_type": "code",
   "execution_count": 16,
   "id": "6bc9dbd0",
   "metadata": {},
   "outputs": [
    {
     "data": {
      "text/plain": [
       "['₹ 807\\n']"
      ]
     },
     "execution_count": 16,
     "metadata": {},
     "output_type": "execute_result"
    }
   ],
   "source": [
    "product_price=[]\n",
    "for i in range(0,len(price)):\n",
    "    product_price.append(price[i].get_text())\n",
    "product_price"
   ]
  },
  {
   "cell_type": "markdown",
   "id": "8e4aeb65",
   "metadata": {},
   "source": [
    "# All customer name"
   ]
  },
  {
   "cell_type": "code",
   "execution_count": 18,
   "id": "fca74055",
   "metadata": {},
   "outputs": [
    {
     "name": "stdout",
     "output_type": "stream",
     "text": [
      "[<span class=\"jdgm-rev__author\">CHETNA</span>, <span class=\"jdgm-rev__author\">MANIA</span>, <span class=\"jdgm-rev__author\">DM</span>, <span class=\"jdgm-rev__author\">Sweta Patel</span>, <span class=\"jdgm-rev__author\">C.L.</span>]\n"
     ]
    }
   ],
   "source": [
    "cname=soup.find_all(\"span\",class_=\"jdgm-rev__author\")\n",
    "print(cname)"
   ]
  },
  {
   "cell_type": "code",
   "execution_count": 19,
   "id": "0acaaa96",
   "metadata": {},
   "outputs": [
    {
     "data": {
      "text/plain": [
       "['CHETNA', 'MANIA', 'DM', 'Sweta Patel', 'C.L.']"
      ]
     },
     "execution_count": 19,
     "metadata": {},
     "output_type": "execute_result"
    }
   ],
   "source": [
    "cust_name=[]\n",
    "for i in range(0,len(cname)):\n",
    "    cust_name.append(cname[i].get_text())\n",
    "cust_name"
   ]
  },
  {
   "cell_type": "markdown",
   "id": "d80b0e2d",
   "metadata": {},
   "source": [
    "# All review title"
   ]
  },
  {
   "cell_type": "code",
   "execution_count": 20,
   "id": "241b8125",
   "metadata": {},
   "outputs": [
    {
     "name": "stdout",
     "output_type": "stream",
     "text": [
      "[<b class=\"jdgm-rev__title\">full coverage with great smoothness and long lasting</b>, <b class=\"jdgm-rev__title\">\"Blends perfectly \"</b>, <b class=\"jdgm-rev__title\">Best foundation ever</b>, <b class=\"jdgm-rev__title\">\"Best product ever\"</b>, <b class=\"jdgm-rev__title\">Finishing is too good.. buying second time</b>]\n"
     ]
    }
   ],
   "source": [
    "rt=soup.find_all(\"b\",class_=\"jdgm-rev__title\")\n",
    "print(rt)"
   ]
  },
  {
   "cell_type": "code",
   "execution_count": 21,
   "id": "93e5e64b",
   "metadata": {},
   "outputs": [
    {
     "data": {
      "text/plain": [
       "['full coverage with great smoothness and long lasting',\n",
       " '\"Blends perfectly \"',\n",
       " 'Best foundation ever',\n",
       " '\"Best product ever\"',\n",
       " 'Finishing is too good.. buying second time']"
      ]
     },
     "execution_count": 21,
     "metadata": {},
     "output_type": "execute_result"
    }
   ],
   "source": [
    "review_title=[]\n",
    "for i in range(0,len(rt)):\n",
    "    review_title.append(rt[i].get_text())\n",
    "review_title"
   ]
  },
  {
   "cell_type": "markdown",
   "id": "c0028abf",
   "metadata": {},
   "source": [
    "# Main review"
   ]
  },
  {
   "cell_type": "code",
   "execution_count": 22,
   "id": "6d1431a6",
   "metadata": {},
   "outputs": [
    {
     "name": "stdout",
     "output_type": "stream",
     "text": [
      "[<div class=\"jdgm-rev__body\"><p>Its a great foundation just blends into the skin and does not make your face look cakey or powdery .. got a free sample too of one shade high n low which was cherry on top ... just a drop of foundation and it works magic onnyour face</p></div>, <div class=\"jdgm-rev__body\"><p>Such a nice foundation but for dry skin people must be properly moisture your skin before apply it overall very good foundation full coverage.Fav foundation ever..best for warmer skin tone</p></div>, <div class=\"jdgm-rev__body\"><p>This is just speechless quality of foundation I just love the texture its so natural and dewy.. got so many gifts with the purchase. Seriously very happy. Very good product... blends perfectly.   it matches perfectly to my skin tone.. loved the product</p></div>, <div class=\"jdgm-rev__body\"><p>I used many different brands foundation.. finally i got best fir my skin...fantastic coverage...it covers under eye portion very well...thanks ,It’s a good foundation if you are looking for full coverage. Full coverage, super bendable, long lasting foundation.. loved it ❤</p></div>, <div class=\"jdgm-rev__body\"><p>exactly my shade. I love this foundation. This is my first highend foundation. I was confused about my shade so i purchased a mini 1. I am very happy with results. This is must have foundation.</p></div>]\n"
     ]
    }
   ],
   "source": [
    "mr=soup.find_all(\"div\",class_=\"jdgm-rev__body\")\n",
    "print(mr)"
   ]
  },
  {
   "cell_type": "code",
   "execution_count": 24,
   "id": "4ae82841",
   "metadata": {},
   "outputs": [
    {
     "data": {
      "text/plain": [
       "['Its a great foundation just blends into the skin and does not make your face look cakey or powdery .. got a free sample too of one shade high n low which was cherry on top ... just a drop of foundation and it works magic onnyour face',\n",
       " 'Such a nice foundation but for dry skin people must be properly moisture your skin before apply it overall very good foundation full coverage.Fav foundation ever..best for warmer skin tone',\n",
       " 'This is just speechless quality of foundation I just love the texture its so natural and dewy.. got so many gifts with the purchase. Seriously very happy. Very good product... blends perfectly.   it matches perfectly to my skin tone.. loved the product',\n",
       " 'I used many different brands foundation.. finally i got best fir my skin...fantastic coverage...it covers under eye portion very well...thanks ,It’s a good foundation if you are looking for full coverage. Full coverage, super bendable, long lasting foundation.. loved it ❤',\n",
       " 'exactly my shade. I love this foundation. This is my first highend foundation. I was confused about my shade so i purchased a mini 1. I am very happy with results. This is must have foundation.']"
      ]
     },
     "execution_count": 24,
     "metadata": {},
     "output_type": "execute_result"
    }
   ],
   "source": [
    "main_review=[]\n",
    "for i in range(0,len(mr)):\n",
    "    main_review.append(mr[i].get_text())\n",
    "main_review"
   ]
  },
  {
   "cell_type": "code",
   "execution_count": null,
   "id": "01402b51",
   "metadata": {},
   "outputs": [],
   "source": [
    "jdgm-rev__timestamp"
   ]
  },
  {
   "cell_type": "code",
   "execution_count": 35,
   "id": "d81139ca",
   "metadata": {},
   "outputs": [
    {
     "name": "stdout",
     "output_type": "stream",
     "text": [
      "[<div class=\"jdgm-histogram jdgm-temp-hidden\"> <div class=\"jdgm-histogram__row\" data-frequency=\"30\" data-percentage=\"97\" data-rating=\"5\"> <div aria-label=\"97% (30) reviews with 5 star rating\" class=\"jdgm-histogram__star\" role=\"button\" tabindex=\"0\"><span class=\"jdgm-star jdgm--on\"></span><span class=\"jdgm-star jdgm--on\"></span><span class=\"jdgm-star jdgm--on\"></span><span class=\"jdgm-star jdgm--on\"></span><span class=\"jdgm-star jdgm--on\"></span></div> <div class=\"jdgm-histogram__bar\"> <div class=\"jdgm-histogram__bar-content\" style=\"width: 97%;\"> </div> </div> <div class=\"jdgm-histogram__percentage\">97%</div> <div class=\"jdgm-histogram__frequency\">(30)</div> </div> <div class=\"jdgm-histogram__row\" data-frequency=\"1\" data-percentage=\"3\" data-rating=\"4\"> <div aria-label=\"3% (1) reviews with 4 star rating\" class=\"jdgm-histogram__star\" role=\"button\" tabindex=\"0\"><span class=\"jdgm-star jdgm--on\"></span><span class=\"jdgm-star jdgm--on\"></span><span class=\"jdgm-star jdgm--on\"></span><span class=\"jdgm-star jdgm--on\"></span><span class=\"jdgm-star jdgm--off\"></span></div> <div class=\"jdgm-histogram__bar\"> <div class=\"jdgm-histogram__bar-content\" style=\"width: 3%;\"> </div> </div> <div class=\"jdgm-histogram__percentage\">3%</div> <div class=\"jdgm-histogram__frequency\">(1)</div> </div> <div class=\"jdgm-histogram__row\" data-frequency=\"0\" data-percentage=\"0\" data-rating=\"3\"> <div aria-label=\"0% (0) reviews with 3 star rating\" class=\"jdgm-histogram__star\" role=\"button\" tabindex=\"0\"><span class=\"jdgm-star jdgm--on\"></span><span class=\"jdgm-star jdgm--on\"></span><span class=\"jdgm-star jdgm--on\"></span><span class=\"jdgm-star jdgm--off\"></span><span class=\"jdgm-star jdgm--off\"></span></div> <div class=\"jdgm-histogram__bar\"> <div class=\"jdgm-histogram__bar-content\" style=\"width: 0%;\"> </div> </div> <div class=\"jdgm-histogram__percentage\">0%</div> <div class=\"jdgm-histogram__frequency\">(0)</div> </div> <div class=\"jdgm-histogram__row\" data-frequency=\"0\" data-percentage=\"0\" data-rating=\"2\"> <div aria-label=\"0% (0) reviews with 2 star rating\" class=\"jdgm-histogram__star\" role=\"button\" tabindex=\"0\"><span class=\"jdgm-star jdgm--on\"></span><span class=\"jdgm-star jdgm--on\"></span><span class=\"jdgm-star jdgm--off\"></span><span class=\"jdgm-star jdgm--off\"></span><span class=\"jdgm-star jdgm--off\"></span></div> <div class=\"jdgm-histogram__bar\"> <div class=\"jdgm-histogram__bar-content\" style=\"width: 0%;\"> </div> </div> <div class=\"jdgm-histogram__percentage\">0%</div> <div class=\"jdgm-histogram__frequency\">(0)</div> </div> <div class=\"jdgm-histogram__row\" data-frequency=\"0\" data-percentage=\"0\" data-rating=\"1\"> <div aria-label=\"0% (0) reviews with 1 star rating\" class=\"jdgm-histogram__star\" role=\"button\" tabindex=\"0\"><span class=\"jdgm-star jdgm--on\"></span><span class=\"jdgm-star jdgm--off\"></span><span class=\"jdgm-star jdgm--off\"></span><span class=\"jdgm-star jdgm--off\"></span><span class=\"jdgm-star jdgm--off\"></span></div> <div class=\"jdgm-histogram__bar\"> <div class=\"jdgm-histogram__bar-content\" style=\"width: 0%;\"> </div> </div> <div class=\"jdgm-histogram__percentage\">0%</div> <div class=\"jdgm-histogram__frequency\">(0)</div> </div> <div class=\"jdgm-histogram__row jdgm-histogram__clear-filter\" data-rating=\"null\" tabindex=\"0\"></div> </div>]\n"
     ]
    }
   ],
   "source": [
    "star=soup.find_all(\"div\",class_=\"jdgm-histogram jdgm-temp-hidden\")\n",
    "print(star)"
   ]
  },
  {
   "cell_type": "code",
   "execution_count": 36,
   "id": "82c73d09",
   "metadata": {},
   "outputs": [
    {
     "data": {
      "text/plain": [
       "['       97% (30)        3% (1)        0% (0)        0% (0)        0% (0)   ']"
      ]
     },
     "execution_count": 36,
     "metadata": {},
     "output_type": "execute_result"
    }
   ],
   "source": [
    "rev_percent=[]\n",
    "for i in range(0,len(star)):\n",
    "    rev_percent.append(star[i].get_text())\n",
    "rev_percent"
   ]
  },
  {
   "cell_type": "markdown",
   "id": "b287bef1",
   "metadata": {},
   "source": [
    "# Applying tablular structure"
   ]
  },
  {
   "cell_type": "code",
   "execution_count": 37,
   "id": "ca5b3e16",
   "metadata": {},
   "outputs": [],
   "source": [
    "import pandas as pd"
   ]
  },
  {
   "cell_type": "code",
   "execution_count": 41,
   "id": "70e619d6",
   "metadata": {},
   "outputs": [],
   "source": [
    "df=pd.DataFrame()\n",
    "df[\"cname\"]=cust_name\n",
    "df[\"rt\"]=review_title\n",
    "df[\"mr\"]=main_review\n"
   ]
  },
  {
   "cell_type": "code",
   "execution_count": 42,
   "id": "25b765d5",
   "metadata": {},
   "outputs": [
    {
     "data": {
      "text/html": [
       "<div>\n",
       "<style scoped>\n",
       "    .dataframe tbody tr th:only-of-type {\n",
       "        vertical-align: middle;\n",
       "    }\n",
       "\n",
       "    .dataframe tbody tr th {\n",
       "        vertical-align: top;\n",
       "    }\n",
       "\n",
       "    .dataframe thead th {\n",
       "        text-align: right;\n",
       "    }\n",
       "</style>\n",
       "<table border=\"1\" class=\"dataframe\">\n",
       "  <thead>\n",
       "    <tr style=\"text-align: right;\">\n",
       "      <th></th>\n",
       "      <th>cname</th>\n",
       "      <th>rt</th>\n",
       "      <th>mr</th>\n",
       "    </tr>\n",
       "  </thead>\n",
       "  <tbody>\n",
       "    <tr>\n",
       "      <th>0</th>\n",
       "      <td>CHETNA</td>\n",
       "      <td>full coverage with great smoothness and long l...</td>\n",
       "      <td>Its a great foundation just blends into the sk...</td>\n",
       "    </tr>\n",
       "    <tr>\n",
       "      <th>1</th>\n",
       "      <td>MANIA</td>\n",
       "      <td>\"Blends perfectly \"</td>\n",
       "      <td>Such a nice foundation but for dry skin people...</td>\n",
       "    </tr>\n",
       "    <tr>\n",
       "      <th>2</th>\n",
       "      <td>DM</td>\n",
       "      <td>Best foundation ever</td>\n",
       "      <td>This is just speechless quality of foundation ...</td>\n",
       "    </tr>\n",
       "    <tr>\n",
       "      <th>3</th>\n",
       "      <td>Sweta Patel</td>\n",
       "      <td>\"Best product ever\"</td>\n",
       "      <td>I used many different brands foundation.. fina...</td>\n",
       "    </tr>\n",
       "    <tr>\n",
       "      <th>4</th>\n",
       "      <td>C.L.</td>\n",
       "      <td>Finishing is too good.. buying second time</td>\n",
       "      <td>exactly my shade. I love this foundation. This...</td>\n",
       "    </tr>\n",
       "  </tbody>\n",
       "</table>\n",
       "</div>"
      ],
      "text/plain": [
       "         cname                                                 rt  \\\n",
       "0       CHETNA  full coverage with great smoothness and long l...   \n",
       "1        MANIA                                \"Blends perfectly \"   \n",
       "2           DM                               Best foundation ever   \n",
       "3  Sweta Patel                                \"Best product ever\"   \n",
       "4         C.L.         Finishing is too good.. buying second time   \n",
       "\n",
       "                                                  mr  \n",
       "0  Its a great foundation just blends into the sk...  \n",
       "1  Such a nice foundation but for dry skin people...  \n",
       "2  This is just speechless quality of foundation ...  \n",
       "3  I used many different brands foundation.. fina...  \n",
       "4  exactly my shade. I love this foundation. This...  "
      ]
     },
     "execution_count": 42,
     "metadata": {},
     "output_type": "execute_result"
    }
   ],
   "source": [
    "df"
   ]
  },
  {
   "cell_type": "code",
   "execution_count": 43,
   "id": "b825727c",
   "metadata": {},
   "outputs": [],
   "source": [
    "df.to_csv(\"Top Review\",index=False)"
   ]
  },
  {
   "cell_type": "code",
   "execution_count": 44,
   "id": "c890a892",
   "metadata": {},
   "outputs": [
    {
     "data": {
      "text/html": [
       "<div>\n",
       "<style scoped>\n",
       "    .dataframe tbody tr th:only-of-type {\n",
       "        vertical-align: middle;\n",
       "    }\n",
       "\n",
       "    .dataframe tbody tr th {\n",
       "        vertical-align: top;\n",
       "    }\n",
       "\n",
       "    .dataframe thead th {\n",
       "        text-align: right;\n",
       "    }\n",
       "</style>\n",
       "<table border=\"1\" class=\"dataframe\">\n",
       "  <thead>\n",
       "    <tr style=\"text-align: right;\">\n",
       "      <th></th>\n",
       "      <th>cname</th>\n",
       "      <th>rt</th>\n",
       "      <th>mr</th>\n",
       "    </tr>\n",
       "  </thead>\n",
       "  <tbody>\n",
       "    <tr>\n",
       "      <th>0</th>\n",
       "      <td>CHETNA</td>\n",
       "      <td>full coverage with great smoothness and long l...</td>\n",
       "      <td>Its a great foundation just blends into the sk...</td>\n",
       "    </tr>\n",
       "    <tr>\n",
       "      <th>1</th>\n",
       "      <td>MANIA</td>\n",
       "      <td>\"Blends perfectly \"</td>\n",
       "      <td>Such a nice foundation but for dry skin people...</td>\n",
       "    </tr>\n",
       "    <tr>\n",
       "      <th>2</th>\n",
       "      <td>DM</td>\n",
       "      <td>Best foundation ever</td>\n",
       "      <td>This is just speechless quality of foundation ...</td>\n",
       "    </tr>\n",
       "    <tr>\n",
       "      <th>3</th>\n",
       "      <td>Sweta Patel</td>\n",
       "      <td>\"Best product ever\"</td>\n",
       "      <td>I used many different brands foundation.. fina...</td>\n",
       "    </tr>\n",
       "    <tr>\n",
       "      <th>4</th>\n",
       "      <td>C.L.</td>\n",
       "      <td>Finishing is too good.. buying second time</td>\n",
       "      <td>exactly my shade. I love this foundation. This...</td>\n",
       "    </tr>\n",
       "  </tbody>\n",
       "</table>\n",
       "</div>"
      ],
      "text/plain": [
       "         cname                                                 rt  \\\n",
       "0       CHETNA  full coverage with great smoothness and long l...   \n",
       "1        MANIA                                \"Blends perfectly \"   \n",
       "2           DM                               Best foundation ever   \n",
       "3  Sweta Patel                                \"Best product ever\"   \n",
       "4         C.L.         Finishing is too good.. buying second time   \n",
       "\n",
       "                                                  mr  \n",
       "0  Its a great foundation just blends into the sk...  \n",
       "1  Such a nice foundation but for dry skin people...  \n",
       "2  This is just speechless quality of foundation ...  \n",
       "3  I used many different brands foundation.. fina...  \n",
       "4  exactly my shade. I love this foundation. This...  "
      ]
     },
     "execution_count": 44,
     "metadata": {},
     "output_type": "execute_result"
    }
   ],
   "source": [
    "df1=pd.read_csv(\"Top Review\")\n",
    "df1"
   ]
  },
  {
   "cell_type": "code",
   "execution_count": null,
   "id": "435c2e43",
   "metadata": {},
   "outputs": [],
   "source": [
    "\n"
   ]
  }
 ],
 "metadata": {
  "kernelspec": {
   "display_name": "Python 3 (ipykernel)",
   "language": "python",
   "name": "python3"
  },
  "language_info": {
   "codemirror_mode": {
    "name": "ipython",
    "version": 3
   },
   "file_extension": ".py",
   "mimetype": "text/x-python",
   "name": "python",
   "nbconvert_exporter": "python",
   "pygments_lexer": "ipython3",
   "version": "3.9.13"
  }
 },
 "nbformat": 4,
 "nbformat_minor": 5
}
